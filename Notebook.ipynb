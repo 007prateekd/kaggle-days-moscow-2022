{
 "cells": [
  {
   "cell_type": "code",
   "execution_count": 1,
   "metadata": {
    "execution": {
     "iopub.execute_input": "2022-01-16T13:51:12.668721Z",
     "iopub.status.busy": "2022-01-16T13:51:12.668388Z",
     "iopub.status.idle": "2022-01-16T13:51:14.218055Z",
     "shell.execute_reply": "2022-01-16T13:51:14.217487Z",
     "shell.execute_reply.started": "2022-01-16T13:51:12.668691Z"
    },
    "tags": []
   },
   "outputs": [],
   "source": [
    "## Imports\n",
    "import os\n",
    "import pandas as pd\n",
    "import numpy as np\n",
    "import matplotlib.pyplot as plt\n",
    "import seaborn as sns\n",
    "from sklearn.experimental import enable_iterative_imputer\n",
    "from sklearn.impute import KNNImputer, IterativeImputer\n",
    "from sklearn.ensemble import RandomForestRegressor, RandomForestClassifier\n",
    "from sklearn.model_selection import train_test_split\n",
    "from sklearn.metrics import mean_absolute_error\n",
    "import lightgbm as lgb\n",
    "import warnings"
   ]
  },
  {
   "cell_type": "code",
   "execution_count": 2,
   "metadata": {
    "execution": {
     "iopub.execute_input": "2022-01-16T13:52:19.615114Z",
     "iopub.status.busy": "2022-01-16T13:52:19.614575Z",
     "iopub.status.idle": "2022-01-16T13:52:19.625065Z",
     "shell.execute_reply": "2022-01-16T13:52:19.623875Z",
     "shell.execute_reply.started": "2022-01-16T13:52:19.615040Z"
    },
    "tags": []
   },
   "outputs": [],
   "source": [
    "sns.set(style = 'darkgrid', context = 'notebook', palette = 'deep')\n",
    "warnings.filterwarnings('ignore')\n",
    "%matplotlib inline"
   ]
  },
  {
   "cell_type": "code",
   "execution_count": 3,
   "metadata": {
    "execution": {
     "iopub.execute_input": "2022-01-16T13:52:21.186472Z",
     "iopub.status.busy": "2022-01-16T13:52:21.186236Z",
     "iopub.status.idle": "2022-01-16T13:52:21.565084Z",
     "shell.execute_reply": "2022-01-16T13:52:21.564413Z",
     "shell.execute_reply.started": "2022-01-16T13:52:21.186452Z"
    },
    "tags": []
   },
   "outputs": [
    {
     "data": {
      "text/html": [
       "<div>\n",
       "<style scoped>\n",
       "    .dataframe tbody tr th:only-of-type {\n",
       "        vertical-align: middle;\n",
       "    }\n",
       "\n",
       "    .dataframe tbody tr th {\n",
       "        vertical-align: top;\n",
       "    }\n",
       "\n",
       "    .dataframe thead th {\n",
       "        text-align: right;\n",
       "    }\n",
       "</style>\n",
       "<table border=\"1\" class=\"dataframe\">\n",
       "  <thead>\n",
       "    <tr style=\"text-align: right;\">\n",
       "      <th></th>\n",
       "      <th>obs_day</th>\n",
       "      <th>obs_hour</th>\n",
       "      <th>obs_minute</th>\n",
       "      <th>C_motion</th>\n",
       "      <th>fw_motion</th>\n",
       "      <th>faucet_hole</th>\n",
       "      <th>vap_pressure</th>\n",
       "      <th>vap_enth</th>\n",
       "      <th>vap_pressure_div</th>\n",
       "      <th>vap_motion</th>\n",
       "      <th>fw_enth</th>\n",
       "      <th>vap_temp</th>\n",
       "    </tr>\n",
       "    <tr>\n",
       "      <th>id</th>\n",
       "      <th></th>\n",
       "      <th></th>\n",
       "      <th></th>\n",
       "      <th></th>\n",
       "      <th></th>\n",
       "      <th></th>\n",
       "      <th></th>\n",
       "      <th></th>\n",
       "      <th></th>\n",
       "      <th></th>\n",
       "      <th></th>\n",
       "      <th></th>\n",
       "    </tr>\n",
       "  </thead>\n",
       "  <tbody>\n",
       "    <tr>\n",
       "      <th>a563699ca2a601c6ac64aa29986a00a90fb42b48741695b0526a286d504d17ca</th>\n",
       "      <td>Saturday</td>\n",
       "      <td>5.0</td>\n",
       "      <td>46.0</td>\n",
       "      <td>361.486145</td>\n",
       "      <td>2542.801078</td>\n",
       "      <td>0.666879</td>\n",
       "      <td>24.138243</td>\n",
       "      <td>2788.168701</td>\n",
       "      <td>25.448248</td>\n",
       "      <td>2543.177002</td>\n",
       "      <td>1270.066040</td>\n",
       "      <td>603.834106</td>\n",
       "    </tr>\n",
       "    <tr>\n",
       "      <th>91ab3eb3bcf6c8c1c5fe2da9ba671aa5a48c7369d9a50f32e1ddd735472b4b3c</th>\n",
       "      <td>Saturday</td>\n",
       "      <td>18.0</td>\n",
       "      <td>NaN</td>\n",
       "      <td>197.064667</td>\n",
       "      <td>1454.458144</td>\n",
       "      <td>NaN</td>\n",
       "      <td>12.702796</td>\n",
       "      <td>NaN</td>\n",
       "      <td>13.405114</td>\n",
       "      <td>1454.421021</td>\n",
       "      <td>1095.314453</td>\n",
       "      <td>500.178772</td>\n",
       "    </tr>\n",
       "    <tr>\n",
       "      <th>7128c51c554735d6c81862684ad6005ae12d2edbcd464487a7217fc72c03ba22</th>\n",
       "      <td>Saturday</td>\n",
       "      <td>3.0</td>\n",
       "      <td>51.0</td>\n",
       "      <td>356.869232</td>\n",
       "      <td>2458.671690</td>\n",
       "      <td>0.678685</td>\n",
       "      <td>NaN</td>\n",
       "      <td>2784.910889</td>\n",
       "      <td>NaN</td>\n",
       "      <td>2456.578369</td>\n",
       "      <td>1262.656982</td>\n",
       "      <td>603.529663</td>\n",
       "    </tr>\n",
       "    <tr>\n",
       "      <th>c8144b52e4f63014de0a0d8e1c629bf0b05cb2696cfc23291b4f48e6491c4cb5</th>\n",
       "      <td>Saturday</td>\n",
       "      <td>13.0</td>\n",
       "      <td>NaN</td>\n",
       "      <td>239.267517</td>\n",
       "      <td>1628.127295</td>\n",
       "      <td>0.679137</td>\n",
       "      <td>15.378051</td>\n",
       "      <td>2881.876709</td>\n",
       "      <td>16.252741</td>\n",
       "      <td>1626.861328</td>\n",
       "      <td>1148.203857</td>\n",
       "      <td>593.649658</td>\n",
       "    </tr>\n",
       "    <tr>\n",
       "      <th>88d15a5b2df6692f23d105ff1ae82ae026be00c9271eef33e0aea97fd2110cb6</th>\n",
       "      <td>Friday</td>\n",
       "      <td>11.0</td>\n",
       "      <td>13.0</td>\n",
       "      <td>NaN</td>\n",
       "      <td>2621.829401</td>\n",
       "      <td>0.676403</td>\n",
       "      <td>24.517698</td>\n",
       "      <td>2787.063232</td>\n",
       "      <td>NaN</td>\n",
       "      <td>2621.653564</td>\n",
       "      <td>1280.567383</td>\n",
       "      <td>602.601501</td>\n",
       "    </tr>\n",
       "  </tbody>\n",
       "</table>\n",
       "</div>"
      ],
      "text/plain": [
       "                                                     obs_day  obs_hour  \\\n",
       "id                                                                       \n",
       "a563699ca2a601c6ac64aa29986a00a90fb42b48741695b...  Saturday       5.0   \n",
       "91ab3eb3bcf6c8c1c5fe2da9ba671aa5a48c7369d9a50f3...  Saturday      18.0   \n",
       "7128c51c554735d6c81862684ad6005ae12d2edbcd46448...  Saturday       3.0   \n",
       "c8144b52e4f63014de0a0d8e1c629bf0b05cb2696cfc232...  Saturday      13.0   \n",
       "88d15a5b2df6692f23d105ff1ae82ae026be00c9271eef3...    Friday      11.0   \n",
       "\n",
       "                                                    obs_minute    C_motion  \\\n",
       "id                                                                           \n",
       "a563699ca2a601c6ac64aa29986a00a90fb42b48741695b...        46.0  361.486145   \n",
       "91ab3eb3bcf6c8c1c5fe2da9ba671aa5a48c7369d9a50f3...         NaN  197.064667   \n",
       "7128c51c554735d6c81862684ad6005ae12d2edbcd46448...        51.0  356.869232   \n",
       "c8144b52e4f63014de0a0d8e1c629bf0b05cb2696cfc232...         NaN  239.267517   \n",
       "88d15a5b2df6692f23d105ff1ae82ae026be00c9271eef3...        13.0         NaN   \n",
       "\n",
       "                                                      fw_motion  faucet_hole  \\\n",
       "id                                                                             \n",
       "a563699ca2a601c6ac64aa29986a00a90fb42b48741695b...  2542.801078     0.666879   \n",
       "91ab3eb3bcf6c8c1c5fe2da9ba671aa5a48c7369d9a50f3...  1454.458144          NaN   \n",
       "7128c51c554735d6c81862684ad6005ae12d2edbcd46448...  2458.671690     0.678685   \n",
       "c8144b52e4f63014de0a0d8e1c629bf0b05cb2696cfc232...  1628.127295     0.679137   \n",
       "88d15a5b2df6692f23d105ff1ae82ae026be00c9271eef3...  2621.829401     0.676403   \n",
       "\n",
       "                                                    vap_pressure     vap_enth  \\\n",
       "id                                                                              \n",
       "a563699ca2a601c6ac64aa29986a00a90fb42b48741695b...     24.138243  2788.168701   \n",
       "91ab3eb3bcf6c8c1c5fe2da9ba671aa5a48c7369d9a50f3...     12.702796          NaN   \n",
       "7128c51c554735d6c81862684ad6005ae12d2edbcd46448...           NaN  2784.910889   \n",
       "c8144b52e4f63014de0a0d8e1c629bf0b05cb2696cfc232...     15.378051  2881.876709   \n",
       "88d15a5b2df6692f23d105ff1ae82ae026be00c9271eef3...     24.517698  2787.063232   \n",
       "\n",
       "                                                    vap_pressure_div  \\\n",
       "id                                                                     \n",
       "a563699ca2a601c6ac64aa29986a00a90fb42b48741695b...         25.448248   \n",
       "91ab3eb3bcf6c8c1c5fe2da9ba671aa5a48c7369d9a50f3...         13.405114   \n",
       "7128c51c554735d6c81862684ad6005ae12d2edbcd46448...               NaN   \n",
       "c8144b52e4f63014de0a0d8e1c629bf0b05cb2696cfc232...         16.252741   \n",
       "88d15a5b2df6692f23d105ff1ae82ae026be00c9271eef3...               NaN   \n",
       "\n",
       "                                                     vap_motion      fw_enth  \\\n",
       "id                                                                             \n",
       "a563699ca2a601c6ac64aa29986a00a90fb42b48741695b...  2543.177002  1270.066040   \n",
       "91ab3eb3bcf6c8c1c5fe2da9ba671aa5a48c7369d9a50f3...  1454.421021  1095.314453   \n",
       "7128c51c554735d6c81862684ad6005ae12d2edbcd46448...  2456.578369  1262.656982   \n",
       "c8144b52e4f63014de0a0d8e1c629bf0b05cb2696cfc232...  1626.861328  1148.203857   \n",
       "88d15a5b2df6692f23d105ff1ae82ae026be00c9271eef3...  2621.653564  1280.567383   \n",
       "\n",
       "                                                      vap_temp  \n",
       "id                                                              \n",
       "a563699ca2a601c6ac64aa29986a00a90fb42b48741695b...  603.834106  \n",
       "91ab3eb3bcf6c8c1c5fe2da9ba671aa5a48c7369d9a50f3...  500.178772  \n",
       "7128c51c554735d6c81862684ad6005ae12d2edbcd46448...  603.529663  \n",
       "c8144b52e4f63014de0a0d8e1c629bf0b05cb2696cfc232...  593.649658  \n",
       "88d15a5b2df6692f23d105ff1ae82ae026be00c9271eef3...  602.601501  "
      ]
     },
     "execution_count": 3,
     "metadata": {},
     "output_type": "execute_result"
    }
   ],
   "source": [
    "## Read Data\n",
    "X_train_full = pd.read_csv('train.csv', index_col='id')\n",
    "y_train_full = X_train_full['output_gen']\n",
    "X_train_full.drop(columns=['output_gen'], axis=0, inplace=True)\n",
    "X_test = pd.read_csv('test.csv', index_col='id')\n",
    "test_ids = X_test.index\n",
    "X_train_full.head()"
   ]
  },
  {
   "cell_type": "code",
   "execution_count": 4,
   "metadata": {},
   "outputs": [],
   "source": [
    "X_train_full['obs_day'] = X_train_full['obs_day'].map({'Saturday' : 0, 'Friday' : 1})\n",
    "X_test['obs_day'] = X_test['obs_day'].map({'Saturday' : 0, 'Friday' : 1})"
   ]
  },
  {
   "cell_type": "code",
   "execution_count": 5,
   "metadata": {
    "execution": {
     "iopub.status.busy": "2022-01-13T14:45:04.619676Z",
     "iopub.status.idle": "2022-01-13T14:45:04.620293Z",
     "shell.execute_reply": "2022-01-13T14:45:04.620010Z"
    },
    "tags": []
   },
   "outputs": [
    {
     "name": "stdout",
     "output_type": "stream",
     "text": [
      "<class 'pandas.core.frame.DataFrame'>\n",
      "Index: 72000 entries, a563699ca2a601c6ac64aa29986a00a90fb42b48741695b0526a286d504d17ca to ec8aad6fe010eb3aba624a82afbce763c6c2cc31ba45069195ebbc245674d5e2\n",
      "Data columns (total 12 columns):\n",
      " #   Column            Non-Null Count  Dtype  \n",
      "---  ------            --------------  -----  \n",
      " 0   obs_day           64163 non-null  float64\n",
      " 1   obs_hour          64030 non-null  float64\n",
      " 2   obs_minute        64148 non-null  float64\n",
      " 3   C_motion          64089 non-null  float64\n",
      " 4   fw_motion         64088 non-null  float64\n",
      " 5   faucet_hole       64085 non-null  float64\n",
      " 6   vap_pressure      64069 non-null  float64\n",
      " 7   vap_enth          64179 non-null  float64\n",
      " 8   vap_pressure_div  64197 non-null  float64\n",
      " 9   vap_motion        64108 non-null  float64\n",
      " 10  fw_enth           64157 non-null  float64\n",
      " 11  vap_temp          64112 non-null  float64\n",
      "dtypes: float64(12)\n",
      "memory usage: 7.1+ MB\n"
     ]
    }
   ],
   "source": [
    "X_train_full.info()"
   ]
  },
  {
   "cell_type": "code",
   "execution_count": 6,
   "metadata": {
    "execution": {
     "iopub.status.busy": "2022-01-13T14:45:04.646355Z",
     "iopub.status.idle": "2022-01-13T14:45:04.646681Z",
     "shell.execute_reply": "2022-01-13T14:45:04.646528Z"
    },
    "tags": []
   },
   "outputs": [
    {
     "data": {
      "text/plain": [
       "obs_day             7837\n",
       "obs_hour            7970\n",
       "obs_minute          7852\n",
       "C_motion            7911\n",
       "fw_motion           7912\n",
       "faucet_hole         7915\n",
       "vap_pressure        7931\n",
       "vap_enth            7821\n",
       "vap_pressure_div    7803\n",
       "vap_motion          7892\n",
       "fw_enth             7843\n",
       "vap_temp            7888\n",
       "dtype: int64"
      ]
     },
     "execution_count": 6,
     "metadata": {},
     "output_type": "execute_result"
    }
   ],
   "source": [
    "X_train_full.isna().sum()"
   ]
  },
  {
   "cell_type": "code",
   "execution_count": 7,
   "metadata": {},
   "outputs": [
    {
     "data": {
      "text/plain": [
       "obs_day             5259\n",
       "obs_hour            5119\n",
       "obs_minute          5248\n",
       "C_motion            5321\n",
       "fw_motion           5313\n",
       "faucet_hole         5294\n",
       "vap_pressure        5346\n",
       "vap_enth            5348\n",
       "vap_pressure_div    5316\n",
       "vap_motion          5379\n",
       "fw_enth             5337\n",
       "vap_temp            5191\n",
       "dtype: int64"
      ]
     },
     "execution_count": 7,
     "metadata": {},
     "output_type": "execute_result"
    }
   ],
   "source": [
    "X_test.isna().sum()"
   ]
  },
  {
   "cell_type": "code",
   "execution_count": 8,
   "metadata": {},
   "outputs": [],
   "source": [
    "X_train, X_val, y_train, y_val = train_test_split(X_train_full, y_train_full, test_size=0.1, random_state=42) "
   ]
  },
  {
   "cell_type": "code",
   "execution_count": null,
   "metadata": {},
   "outputs": [],
   "source": [
    "## Imputation\n",
    "num_cols = X_train_full.columns[1:]\n",
    "cat_cols = X_train_full.columns[:1]\n",
    "imp_num = IterativeImputer(estimator=RandomForestRegressor(),\n",
    "                           initial_strategy='mean',\n",
    "                           max_iter=10, random_state=0)\n",
    "imp_cat = IterativeImputer(estimator=RandomForestClassifier(), \n",
    "                           initial_strategy='most_frequent',\n",
    "                           max_iter=10, random_state=0)\n",
    "\n",
    "X_train[num_cols] = imp_num.fit_transform(X_train[num_cols])\n",
    "X_train[cat_cols] = imp_num.fit_transform(X_train[cat_cols])\n",
    "\n",
    "X_val[num_cols]  = imp_num.transform(X_val[num_cols])\n",
    "X_val[cat_cols]  = imp_num.transform(X_val[cat_cols])\n",
    "X_test[num_cols] = imp_num.transform(X_test[num_cols])\n",
    "X_test[cat_cols] = imp_num.transform(X_test[cat_cols])"
   ]
  },
  {
   "cell_type": "code",
   "execution_count": null,
   "metadata": {},
   "outputs": [],
   "source": [
    "hyper_params = {\n",
    "    'task': 'train',\n",
    "    'boosting_type': 'gbdt',\n",
    "    'objective': 'regression',\n",
    "    'metric': ['l1','l2'],\n",
    "    'learning_rate': 0.005,\n",
    "    'feature_fraction': 0.9,\n",
    "    'bagging_fraction': 0.7,\n",
    "    'bagging_freq': 10,\n",
    "    'verbose': 0,\n",
    "    \"max_depth\": 8,\n",
    "    \"num_leaves\": 128,  \n",
    "    \"max_bin\": 512,\n",
    "    \"num_iterations\": 100000\n",
    "}\n",
    "model = lgb.LGBMRegressor(**hyper_params)\n",
    "model.fit(X_train, y_train, eval_set=[(X_val, y_val)], eval_metric='l1', early_stopping_rounds=1000)"
   ]
  },
  {
   "cell_type": "code",
   "execution_count": null,
   "metadata": {},
   "outputs": [],
   "source": [
    "## Validation MAE\n",
    "## Best Mae : 0.835\n",
    "preds = model.predict(X_val, num_iteration=model.best_iteration_)\n",
    "print(mean_absolute_error(preds, y_val))"
   ]
  },
  {
   "cell_type": "code",
   "execution_count": null,
   "metadata": {},
   "outputs": [],
   "source": [
    "## Final Predictions\n",
    "preds_test = model.predict(X_test)\n",
    "output = pd.DataFrame({'id': test_ids, 'output_gen': preds_test})\n",
    "output.to_csv('submission.csv', index=False)"
   ]
  },
  {
   "cell_type": "code",
   "execution_count": null,
   "metadata": {},
   "outputs": [],
   "source": [
    "output.head()"
   ]
  }
 ],
 "metadata": {
  "kernelspec": {
   "display_name": "Python 3",
   "language": "python",
   "name": "python3"
  },
  "language_info": {
   "codemirror_mode": {
    "name": "ipython",
    "version": 3
   },
   "file_extension": ".py",
   "mimetype": "text/x-python",
   "name": "python",
   "nbconvert_exporter": "python",
   "pygments_lexer": "ipython3",
   "version": "3.8.10"
  }
 },
 "nbformat": 4,
 "nbformat_minor": 4
}
